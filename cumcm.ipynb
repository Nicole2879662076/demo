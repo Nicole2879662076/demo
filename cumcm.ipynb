{
 "cells": [
  {
   "cell_type": "markdown",
   "id": "15b3b1cf",
   "metadata": {
    "papermill": {
     "duration": 0.008923,
     "end_time": "2022-09-18T06:24:30.796997",
     "exception": false,
     "start_time": "2022-09-18T06:24:30.788074",
     "status": "completed"
    },
    "tags": []
   },
   "source": [
    "# 第一步 "
   ]
  },
  {
   "cell_type": "code",
   "execution_count": 1,
   "id": "4334995d",
   "metadata": {
    "execution": {
     "iopub.execute_input": "2022-09-18T06:24:30.818127Z",
     "iopub.status.busy": "2022-09-18T06:24:30.817089Z",
     "iopub.status.idle": "2022-09-18T06:24:44.223813Z",
     "shell.execute_reply": "2022-09-18T06:24:44.221869Z"
    },
    "papermill": {
     "duration": 13.420148,
     "end_time": "2022-09-18T06:24:44.227119",
     "exception": false,
     "start_time": "2022-09-18T06:24:30.806971",
     "status": "completed"
    },
    "tags": []
   },
   "outputs": [
    {
     "name": "stdout",
     "output_type": "stream",
     "text": [
      "Collecting xlwt\r\n",
      "  Downloading xlwt-1.3.0-py2.py3-none-any.whl (99 kB)\r\n",
      "\u001b[2K     \u001b[90m━━━━━━━━━━━━━━━━━━━━━━━━━━━━━━━━━━━━━━━\u001b[0m \u001b[32m100.0/100.0 kB\u001b[0m \u001b[31m1.0 MB/s\u001b[0m eta \u001b[36m0:00:00\u001b[0m\r\n",
      "\u001b[?25hInstalling collected packages: xlwt\r\n",
      "Successfully installed xlwt-1.3.0\r\n",
      "\u001b[33mWARNING: Running pip as the 'root' user can result in broken permissions and conflicting behaviour with the system package manager. It is recommended to use a virtual environment instead: https://pip.pypa.io/warnings/venv\u001b[0m\u001b[33m\r\n",
      "\u001b[0m"
     ]
    }
   ],
   "source": [
    "!pip install xlwt"
   ]
  },
  {
   "cell_type": "code",
   "execution_count": 2,
   "id": "51c6dbce",
   "metadata": {
    "execution": {
     "iopub.execute_input": "2022-09-18T06:24:44.245670Z",
     "iopub.status.busy": "2022-09-18T06:24:44.245246Z",
     "iopub.status.idle": "2022-09-18T06:24:44.806185Z",
     "shell.execute_reply": "2022-09-18T06:24:44.804712Z"
    },
    "papermill": {
     "duration": 0.573848,
     "end_time": "2022-09-18T06:24:44.809257",
     "exception": false,
     "start_time": "2022-09-18T06:24:44.235409",
     "status": "completed"
    },
    "tags": []
   },
   "outputs": [],
   "source": [
    "import numpy as np # linear algebra\n",
    "import pandas as pd # data processing, CSV file I/O (e.g. pd.read_csv)\n",
    "import cmath\n",
    "import math\n",
    "import random\n",
    "from collections import Counter\n",
    "from scipy import optimize\n",
    "import pulp as pl\n",
    "import time\n",
    "from tqdm import tqdm\n",
    "import xlwt"
   ]
  },
  {
   "cell_type": "code",
   "execution_count": 3,
   "id": "20ee55d1",
   "metadata": {
    "execution": {
     "iopub.execute_input": "2022-09-18T06:24:44.827728Z",
     "iopub.status.busy": "2022-09-18T06:24:44.826708Z",
     "iopub.status.idle": "2022-09-18T06:24:44.832564Z",
     "shell.execute_reply": "2022-09-18T06:24:44.831369Z"
    },
    "papermill": {
     "duration": 0.017764,
     "end_time": "2022-09-18T06:24:44.835185",
     "exception": false,
     "start_time": "2022-09-18T06:24:44.817421",
     "status": "completed"
    },
    "tags": []
   },
   "outputs": [],
   "source": [
    "#生成点坐标\n",
    "def Pointer(x,y):\n",
    "    p = (x,y)\n",
    "    return p"
   ]
  },
  {
   "cell_type": "code",
   "execution_count": 4,
   "id": "f16a71ed",
   "metadata": {
    "execution": {
     "iopub.execute_input": "2022-09-18T06:24:44.853522Z",
     "iopub.status.busy": "2022-09-18T06:24:44.853085Z",
     "iopub.status.idle": "2022-09-18T06:24:44.859898Z",
     "shell.execute_reply": "2022-09-18T06:24:44.858513Z"
    },
    "papermill": {
     "duration": 0.018803,
     "end_time": "2022-09-18T06:24:44.862352",
     "exception": false,
     "start_time": "2022-09-18T06:24:44.843549",
     "status": "completed"
    },
    "tags": []
   },
   "outputs": [],
   "source": [
    "#极坐标转为直角坐标系\n",
    "def convert_coordinate(r_long, angle):\n",
    "    radian = math.radians(angle)\n",
    "    cn1 = cmath.rect(r_long, radian)\n",
    "    #生成点坐标\n",
    "    p=Pointer(cn1.real,cn1.imag)\n",
    "    #print(p)\n",
    "    return p\n",
    "\n",
    "#p4 = convert_coordinate(str(2),105, 119.75)\n",
    "#p4\n",
    "#p4[0]"
   ]
  },
  {
   "cell_type": "code",
   "execution_count": 5,
   "id": "1ce6e28c",
   "metadata": {
    "execution": {
     "iopub.execute_input": "2022-09-18T06:24:44.880838Z",
     "iopub.status.busy": "2022-09-18T06:24:44.879931Z",
     "iopub.status.idle": "2022-09-18T06:24:44.887454Z",
     "shell.execute_reply": "2022-09-18T06:24:44.886328Z"
    },
    "papermill": {
     "duration": 0.019629,
     "end_time": "2022-09-18T06:24:44.889988",
     "exception": false,
     "start_time": "2022-09-18T06:24:44.870359",
     "status": "completed"
    },
    "tags": []
   },
   "outputs": [],
   "source": [
    "#点坐标\n",
    "p1 = convert_coordinate(100, 0)\n",
    "p2 = convert_coordinate(98, 40.10)\n",
    "p3 = convert_coordinate(112, 80.21)\n",
    "p4 = convert_coordinate(105, 119.75)\n",
    "p5 = convert_coordinate(98, 159.86)\n",
    "p6 = convert_coordinate(112, 199.96)\n",
    "p7 = convert_coordinate(105, 240.07)\n",
    "p8 = convert_coordinate(98, 280.17)\n",
    "p9 = convert_coordinate(112, 320.28)"
   ]
  },
  {
   "cell_type": "code",
   "execution_count": 6,
   "id": "c9f1d4c5",
   "metadata": {
    "execution": {
     "iopub.execute_input": "2022-09-18T06:24:44.908646Z",
     "iopub.status.busy": "2022-09-18T06:24:44.907983Z",
     "iopub.status.idle": "2022-09-18T06:24:44.919044Z",
     "shell.execute_reply": "2022-09-18T06:24:44.918097Z"
    },
    "papermill": {
     "duration": 0.02343,
     "end_time": "2022-09-18T06:24:44.921623",
     "exception": false,
     "start_time": "2022-09-18T06:24:44.898193",
     "status": "completed"
    },
    "tags": []
   },
   "outputs": [],
   "source": [
    "#计算夹角\n",
    "def cal_ang(point_1, point_2, point_3):\n",
    "    global B\n",
    "    try:\n",
    "        \"\"\"\n",
    "        根据三点坐标计算夹角\n",
    "        :param point_1: 点1坐标\n",
    "        :param point_2: 点2坐标\n",
    "        :param point_3: 点3坐标\n",
    "        :return: 返回任意角的夹角值，这里只是返回点2的夹角\n",
    "        \"\"\"\n",
    "        a=math.sqrt((point_2[0]-point_3[0])*(point_2[0]-point_3[0])+(point_2[1]-point_3[1])*(point_2[1] - point_3[1]))\n",
    "        b=math.sqrt((point_1[0]-point_3[0])*(point_1[0]-point_3[0])+(point_1[1]-point_3[1])*(point_1[1] - point_3[1]))\n",
    "        c=math.sqrt((point_1[0]-point_2[0])*(point_1[0]-point_2[0])+(point_1[1]-point_2[1])*(point_1[1]-point_2[1]))\n",
    "        A=math.degrees(math.acos((a*a-b*b-c*c)/(-2*b*c)))\n",
    "        B=math.degrees(math.acos((b*b-a*a-c*c)/(-2*a*c)))\n",
    "        C=math.degrees(math.acos((c*c-a*a-b*b)/(-2*a*b)))\n",
    "    except:\n",
    "        pass\n",
    "    return B\n",
    "\n",
    "#cal_ang((0,0), p4, (100,0))"
   ]
  },
  {
   "cell_type": "code",
   "execution_count": 7,
   "id": "e1548d85",
   "metadata": {
    "execution": {
     "iopub.execute_input": "2022-09-18T06:24:44.941069Z",
     "iopub.status.busy": "2022-09-18T06:24:44.940436Z",
     "iopub.status.idle": "2022-09-18T06:24:44.952102Z",
     "shell.execute_reply": "2022-09-18T06:24:44.950837Z"
    },
    "papermill": {
     "duration": 0.025378,
     "end_time": "2022-09-18T06:24:44.956164",
     "exception": false,
     "start_time": "2022-09-18T06:24:44.930786",
     "status": "completed"
    },
    "tags": []
   },
   "outputs": [
    {
     "name": "stdout",
     "output_type": "stream",
     "text": [
      "airport_1 's standard angle is  0\n",
      "airport_2 's standard angle is  70.0\n",
      "airport_3 's standard angle is  50.0\n",
      "airport_4 's standard angle is  30.0\n",
      "airport_5 's standard angle is  10.0\n",
      "airport_6 's standard angle is  -10.0\n",
      "airport_7 's standard angle is  -30.0\n",
      "airport_8 's standard angle is  -50.0\n",
      "airport_9 's standard angle is  -70.0\n"
     ]
    }
   ],
   "source": [
    "#计算标准角\n",
    "def stand_angle(number):\n",
    "    if number == 1:\n",
    "        sta = 0\n",
    "    else:\n",
    "        sta = round(math.degrees(math.asin(math.cos((number-1)*20*math.pi/180.0))), 2)\n",
    "    print(\"airport_\"+ str(number)+\" 's standard angle is \", sta)\n",
    "    return sta\n",
    "\n",
    "sta_1 = stand_angle(1)\n",
    "sta_2 = stand_angle(2)\n",
    "sta_3 = stand_angle(3)\n",
    "sta_4 = stand_angle(4)\n",
    "sta_5 = stand_angle(5)\n",
    "sta_6 = stand_angle(6)\n",
    "sta_7 = stand_angle(7)\n",
    "sta_8 = stand_angle(8)\n",
    "sta_9 = stand_angle(9)"
   ]
  },
  {
   "cell_type": "code",
   "execution_count": 8,
   "id": "d48f0fe7",
   "metadata": {
    "execution": {
     "iopub.execute_input": "2022-09-18T06:24:44.975503Z",
     "iopub.status.busy": "2022-09-18T06:24:44.974832Z",
     "iopub.status.idle": "2022-09-18T06:24:44.982138Z",
     "shell.execute_reply": "2022-09-18T06:24:44.981080Z"
    },
    "papermill": {
     "duration": 0.019651,
     "end_time": "2022-09-18T06:24:44.984622",
     "exception": false,
     "start_time": "2022-09-18T06:24:44.964971",
     "status": "completed"
    },
    "tags": []
   },
   "outputs": [],
   "source": [
    "#标准角判断\n",
    "def judge (a_right, point, important1):\n",
    "    a = round(cal_ang((0,0),point,(100,0)),important1)\n",
    "    #print(a)\n",
    "    if a == abs(a_right):\n",
    "        j = 0\n",
    "    elif a < abs(a_right):\n",
    "        #在外接圆外\n",
    "        j = 1\n",
    "    elif a > abs(a_right):\n",
    "        #在外接圆内\n",
    "        j = -1\n",
    "    return j\n",
    "\n",
    "#j = judge (-50, p8, 1)\n",
    "#j"
   ]
  },
  {
   "cell_type": "code",
   "execution_count": 9,
   "id": "6d8abfe8",
   "metadata": {
    "execution": {
     "iopub.execute_input": "2022-09-18T06:24:45.003091Z",
     "iopub.status.busy": "2022-09-18T06:24:45.002360Z",
     "iopub.status.idle": "2022-09-18T06:24:45.013702Z",
     "shell.execute_reply": "2022-09-18T06:24:45.012821Z"
    },
    "papermill": {
     "duration": 0.023563,
     "end_time": "2022-09-18T06:24:45.016235",
     "exception": false,
     "start_time": "2022-09-18T06:24:44.992672",
     "status": "completed"
    },
    "tags": []
   },
   "outputs": [],
   "source": [
    "def move (a_right, point, IM1):\n",
    "    global new_point, count\n",
    "    IM2 = 0.1**(IM1+2)\n",
    "    try:\n",
    "        j = judge (a_right, point, important1)\n",
    "        if j == 0:\n",
    "            #print(\"Done!\")\n",
    "            pass\n",
    "        \n",
    "        elif j == 1:\n",
    "            #print(\"起始位置在圆外\")\n",
    "            u = 0\n",
    "            count = 0\n",
    "            while(u <=100):\n",
    "                arr = np.array(point,dtype = float)\n",
    "                arr[0] = arr[0]*(1- u)\n",
    "                arr[1] = arr[1]*(1- u)\n",
    "                new_point = tuple(arr)\n",
    "                new_j = judge (a_right, new_point, IM1)\n",
    "                u+= IM2\n",
    "                count+= 1\n",
    "                if new_j == 0:\n",
    "                    #print(\"Done\" ,count)\n",
    "                    break\n",
    "                else:\n",
    "                    continue\n",
    "                    \n",
    "        elif j == -1:\n",
    "            #print(\"起始位置在圆内\")\n",
    "            u = 0\n",
    "            count = 0\n",
    "            while(u <=100):\n",
    "                arr = np.array(point,dtype = float)\n",
    "                arr[0] = arr[0]*(1+ u)\n",
    "                arr[1] = arr[1]*(1+ u)\n",
    "                new_point = tuple(arr)\n",
    "                new_j = judge (a_right, new_point, IM1)\n",
    "                u+= IM2\n",
    "                count+= 1\n",
    "                if new_j == 0:\n",
    "                    #print(\"Done\",count)\n",
    "                    break\n",
    "        \n",
    "                else:\n",
    "                    continue\n",
    "    \n",
    "                \n",
    "    except:\n",
    "        #print(\"已在圆周上，不需移动\")\n",
    "        new_point = point\n",
    "        count = 0\n",
    "        pass\n",
    "    \n",
    "    return [new_point,count]"
   ]
  },
  {
   "cell_type": "code",
   "execution_count": 10,
   "id": "f6a14ade",
   "metadata": {
    "execution": {
     "iopub.execute_input": "2022-09-18T06:24:45.034701Z",
     "iopub.status.busy": "2022-09-18T06:24:45.034038Z",
     "iopub.status.idle": "2022-09-18T06:24:45.038885Z",
     "shell.execute_reply": "2022-09-18T06:24:45.037999Z"
    },
    "papermill": {
     "duration": 0.016875,
     "end_time": "2022-09-18T06:24:45.041250",
     "exception": false,
     "start_time": "2022-09-18T06:24:45.024375",
     "status": "completed"
    },
    "tags": []
   },
   "outputs": [],
   "source": [
    "###关键参数\n",
    "important1 = 1"
   ]
  },
  {
   "cell_type": "code",
   "execution_count": 11,
   "id": "a2521251",
   "metadata": {
    "execution": {
     "iopub.execute_input": "2022-09-18T06:24:45.059781Z",
     "iopub.status.busy": "2022-09-18T06:24:45.059040Z",
     "iopub.status.idle": "2022-09-18T06:24:45.067520Z",
     "shell.execute_reply": "2022-09-18T06:24:45.066266Z"
    },
    "papermill": {
     "duration": 0.020749,
     "end_time": "2022-09-18T06:24:45.070040",
     "exception": false,
     "start_time": "2022-09-18T06:24:45.049291",
     "status": "completed"
    },
    "tags": []
   },
   "outputs": [],
   "source": [
    "#产生计数数组\n",
    "def Counting (IM1):\n",
    "    List1 = move (sta_1, p1, IM1)\n",
    "    count1 = List1[1]\n",
    "    List2 = move (sta_2, p2, IM1)\n",
    "    count2 = List2[1]\n",
    "    List3 = move (sta_3, p3, IM1)\n",
    "    count3 = List3[1]\n",
    "    List4 = move (sta_4, p4, IM1)\n",
    "    count4 = List4[1]\n",
    "    List5 = move (sta_5, p5, IM1)\n",
    "    count5 = List5[1]\n",
    "    List6 = move (sta_6, p6, IM1)\n",
    "    count6 = List6[1]\n",
    "    List7 = move (sta_7, p7, IM1)\n",
    "    count7 = List7[1]\n",
    "    List8 = move (sta_8, p8, IM1)\n",
    "    count8 = List8[1]\n",
    "    List9 = move (sta_9, p9, IM1)\n",
    "    count9 = List9[1]\n",
    "    #剔除第一个点\n",
    "    List = [count2, count3, count4, count5, count6, count7, count8, count9]\n",
    "    return List\n",
    "\n",
    "#Count = Counting(important1)\n",
    "#Count"
   ]
  },
  {
   "cell_type": "code",
   "execution_count": 12,
   "id": "504213ad",
   "metadata": {
    "execution": {
     "iopub.execute_input": "2022-09-18T06:24:45.088646Z",
     "iopub.status.busy": "2022-09-18T06:24:45.087924Z",
     "iopub.status.idle": "2022-09-18T06:24:45.102328Z",
     "shell.execute_reply": "2022-09-18T06:24:45.101299Z"
    },
    "papermill": {
     "duration": 0.026601,
     "end_time": "2022-09-18T06:24:45.104963",
     "exception": false,
     "start_time": "2022-09-18T06:24:45.078362",
     "status": "completed"
    },
    "tags": []
   },
   "outputs": [],
   "source": [
    "#调参后生成第一步移动后的直角坐标\n",
    "important1 = 1\n",
    "List1 = move (sta_1, p1, important1)\n",
    "P1 = List1[0]\n",
    "List2 = move (sta_2, p2, important1)\n",
    "P2 = List2[0]\n",
    "List3 = move (sta_3, p3, important1)\n",
    "P3 = List3[0]\n",
    "List4 = move (sta_4, p4, important1) \n",
    "P4 = List4[0]\n",
    "List5 = move (sta_5, p5, important1)\n",
    "P5 = List5[0]\n",
    "List6 = move (sta_6, p6, important1)\n",
    "P6 = List6[0]\n",
    "List7 = move (sta_7, p7, important1)\n",
    "P7 = List7[0]\n",
    "List8 = move (sta_8, p8, important1)\n",
    "P8 = List8[0]\n",
    "List9 = move (sta_9, p9, important1)\n",
    "P9 = List9[0]"
   ]
  },
  {
   "cell_type": "code",
   "execution_count": 13,
   "id": "07026285",
   "metadata": {
    "execution": {
     "iopub.execute_input": "2022-09-18T06:24:45.123556Z",
     "iopub.status.busy": "2022-09-18T06:24:45.122790Z",
     "iopub.status.idle": "2022-09-18T06:24:45.133009Z",
     "shell.execute_reply": "2022-09-18T06:24:45.131794Z"
    },
    "papermill": {
     "duration": 0.022896,
     "end_time": "2022-09-18T06:24:45.135983",
     "exception": false,
     "start_time": "2022-09-18T06:24:45.113087",
     "status": "completed"
    },
    "tags": []
   },
   "outputs": [],
   "source": [
    "#第一步到达到坐标点的极坐标\n",
    "def polar(new_point):\n",
    "    cn = complex(new_point[0], new_point[1])\n",
    "    cn = cmath.polar(cn)\n",
    "    arr = np.array(cn,dtype = float)\n",
    "    arr[1] = math.degrees(arr[1])\n",
    "    if arr[1]<0:\n",
    "        arr[1] = arr[1]+360\n",
    "    else:\n",
    "        pass\n",
    "    p = tuple(arr)\n",
    "    #print(p)\n",
    "    return p\n",
    "\n",
    "polar1 = polar(P1)\n",
    "polar2 = polar(P2)\n",
    "polar3 = polar(P3)\n",
    "polar4 = polar(P4)\n",
    "polar5 = polar(P5)\n",
    "polar6 = polar(P6)\n",
    "polar7 = polar(P7)\n",
    "polar8 = polar(P8)\n",
    "polar9 = polar(P9)\n",
    "\n",
    "def evaluation(fina_point,k): #极坐标\n",
    "    arr = np.array(fina_point,dtype = float)\n",
    "    r = abs(arr[0]-100)/2\n",
    "    sita = abs(arr[1]-(k-1)*40)/1\n",
    "    #print(sita)\n",
    "    error = round((0.5*r + 0.5*sita),5)\n",
    "    #print(error)\n",
    "    return error\n",
    "\n",
    "#第一步的误差\n"
   ]
  },
  {
   "cell_type": "code",
   "execution_count": 14,
   "id": "fe7d52b4",
   "metadata": {
    "execution": {
     "iopub.execute_input": "2022-09-18T06:24:45.154719Z",
     "iopub.status.busy": "2022-09-18T06:24:45.154066Z",
     "iopub.status.idle": "2022-09-18T06:24:45.166233Z",
     "shell.execute_reply": "2022-09-18T06:24:45.164957Z"
    },
    "papermill": {
     "duration": 0.025,
     "end_time": "2022-09-18T06:24:45.169198",
     "exception": false,
     "start_time": "2022-09-18T06:24:45.144198",
     "status": "completed"
    },
    "tags": []
   },
   "outputs": [],
   "source": [
    "def Error_aya (IM1):\n",
    "    List1 = move (sta_1, p1, IM1)\n",
    "    P1 = List1[0]\n",
    "    List2 = move (sta_2, p2, IM1)\n",
    "    P2 = List2[0]\n",
    "    List3 = move (sta_3, p3, IM1)\n",
    "    P3 = List3[0]\n",
    "    List4 = move (sta_4, p4, IM1) \n",
    "    P4 = List4[0]\n",
    "    List5 = move (sta_5, p5, IM1)\n",
    "    P5 = List5[0]\n",
    "    List6 = move (sta_6, p6, IM1)\n",
    "    P6 = List6[0]\n",
    "    List7 = move (sta_7, p7, IM1)\n",
    "    P7 = List7[0]\n",
    "    List8 = move (sta_8, p8, IM1)\n",
    "    P8 = List8[0]\n",
    "    List9 = move (sta_9, p9, IM1)\n",
    "    P9 = List9[0]\n",
    "    polar1 = polar(P1)\n",
    "    polar2 = polar(P2)\n",
    "    polar3 = polar(P3)\n",
    "    polar4 = polar(P4)\n",
    "    polar5 = polar(P5)\n",
    "    polar6 = polar(P6)\n",
    "    polar7 = polar(P7)\n",
    "    polar8 = polar(P8)\n",
    "    polar9 = polar(P9)\n",
    "    error1 = evaluation(polar1,1)\n",
    "    error2 = evaluation(polar2,2)\n",
    "    error3 = evaluation(polar3,3)\n",
    "    error4 = evaluation(polar4,4)\n",
    "    error5 = evaluation(polar5,5)\n",
    "    error6 = evaluation(polar6,6)\n",
    "    error7 = evaluation(polar7,7)\n",
    "    error8 = evaluation(polar8,8)\n",
    "    error9 = evaluation(polar9,9)\n",
    "    Error = [error2, error3, error4, error5, error6, error7, error8, error9]\n",
    "    return Error"
   ]
  },
  {
   "cell_type": "code",
   "execution_count": 15,
   "id": "1ff08e11",
   "metadata": {
    "execution": {
     "iopub.execute_input": "2022-09-18T06:24:45.187931Z",
     "iopub.status.busy": "2022-09-18T06:24:45.187500Z",
     "iopub.status.idle": "2022-09-18T06:24:45.210885Z",
     "shell.execute_reply": "2022-09-18T06:24:45.209322Z"
    },
    "papermill": {
     "duration": 0.035979,
     "end_time": "2022-09-18T06:24:45.213702",
     "exception": false,
     "start_time": "2022-09-18T06:24:45.177723",
     "status": "completed"
    },
    "tags": []
   },
   "outputs": [
    {
     "name": "stdout",
     "output_type": "stream",
     "text": [
      "判断角度是否符合标准角的精度为 1\n",
      "每次调整机位的移动距离 0.10000000000000002\n",
      "----------------------------------airport_1----------------------------------\n",
      "Count is  2\n",
      "New point finished by first step  (100.1, 0.0)\n",
      "----------------------------------airport_2----------------------------------\n",
      "Count is  21\n",
      "New point finished by first step  (76.46154323580645, 64.38659803094819)\n",
      "----------------------------------airport_3----------------------------------\n",
      "Count is  110\n",
      "New point finished by first step  (16.968383242969097, 98.3387880447981)\n",
      "----------------------------------airport_4----------------------------------\n",
      "Count is  39\n",
      "New point finished by first step  (-50.12282903623279, 87.69676225154826)\n",
      "----------------------------------airport_5----------------------------------\n",
      "Count is  26\n",
      "New point finished by first step  (-94.30789470014662, 34.5864640752138)\n",
      "----------------------------------airport_6----------------------------------\n",
      "Count is  103\n",
      "New point finished by first step  (-94.53451703946867, -34.333028764069226)\n",
      "----------------------------------airport_7----------------------------------\n",
      "Count is  44\n",
      "New point finished by first step  (-50.13614441285502, -87.08388053143558)\n",
      "----------------------------------airport_8----------------------------------\n",
      "Count is  23\n",
      "New point finished by first step  (17.68448407056826, -98.58236839900843)\n",
      "----------------------------------airport_9----------------------------------\n",
      "Count is  107\n",
      "New point finished by first step  (77.01610821117593, -63.985431623178386)\n"
     ]
    }
   ],
   "source": [
    "###用于调参后展示\n",
    "print(\"判断角度是否符合标准角的精度为\", important1)\n",
    "important2 = 0.1**(important1+2)\n",
    "print(\"每次调整机位的移动距离\", important2*100)\n",
    "\n",
    "print(\"----------------------------------airport_1----------------------------------\")\n",
    "List1 = move (sta_1, p1, important1)\n",
    "P1 = List1[0]\n",
    "count1 = List1[1]\n",
    "print(\"Count is \", count1)\n",
    "print(\"New point finished by first step \", P1)\n",
    "\n",
    "print(\"----------------------------------airport_2----------------------------------\")\n",
    "List2 = move (sta_2, p2, important1)\n",
    "P2 = List2[0]\n",
    "count2 = List2[1]\n",
    "print(\"Count is \", count2)\n",
    "print(\"New point finished by first step \", P2)\n",
    "\n",
    "print(\"----------------------------------airport_3----------------------------------\")\n",
    "List3 = move (sta_3, p3, important1)\n",
    "P3 = List3[0]\n",
    "count3 = List3[1]\n",
    "print(\"Count is \", count3)\n",
    "print(\"New point finished by first step \", P3)\n",
    "\n",
    "print(\"----------------------------------airport_4----------------------------------\")\n",
    "List4 = move (sta_4, p4, important1) \n",
    "P4 = List4[0]\n",
    "count4 = List4[1]\n",
    "print(\"Count is \", count4)\n",
    "print(\"New point finished by first step \", P4)\n",
    "\n",
    "print(\"----------------------------------airport_5----------------------------------\")\n",
    "List5 = move (sta_5, p5, important1)\n",
    "P5 = List5[0]\n",
    "count5 = List5[1]\n",
    "print(\"Count is \", count5)\n",
    "print(\"New point finished by first step \", P5)\n",
    "\n",
    "print(\"----------------------------------airport_6----------------------------------\")\n",
    "List6 = move (sta_6, p6, important1)\n",
    "P6 = List6[0]\n",
    "count6 = List6[1]\n",
    "print(\"Count is \", count6)\n",
    "print(\"New point finished by first step \", P6)\n",
    "\n",
    "print(\"----------------------------------airport_7----------------------------------\")\n",
    "List7 = move (sta_7, p7, important1)\n",
    "P7 = List7[0]\n",
    "count7 = List7[1]\n",
    "print(\"Count is \", count7)\n",
    "print(\"New point finished by first step \", P7)\n",
    "\n",
    "print(\"----------------------------------airport_8----------------------------------\")\n",
    "List8 = move (sta_8, p8, important1)\n",
    "P8 = List8[0]\n",
    "count8 = List8[1]\n",
    "print(\"Count is \", count8)\n",
    "print(\"New point finished by first step \", P8)\n",
    "\n",
    "print(\"----------------------------------airport_9----------------------------------\")\n",
    "List9 = move (sta_9, p9, important1)\n",
    "P9 = List9[0]\n",
    "count9 = List9[1]\n",
    "print(\"Count is \", count9)\n",
    "print(\"New point finished by first step \", P9)\n"
   ]
  },
  {
   "cell_type": "markdown",
   "id": "b334d7c2",
   "metadata": {
    "papermill": {
     "duration": 0.007925,
     "end_time": "2022-09-18T06:24:45.230093",
     "exception": false,
     "start_time": "2022-09-18T06:24:45.222168",
     "status": "completed"
    },
    "tags": []
   },
   "source": [
    "# 第二步"
   ]
  },
  {
   "cell_type": "code",
   "execution_count": 16,
   "id": "3b642376",
   "metadata": {
    "execution": {
     "iopub.execute_input": "2022-09-18T06:24:45.248316Z",
     "iopub.status.busy": "2022-09-18T06:24:45.247882Z",
     "iopub.status.idle": "2022-09-18T06:24:45.254245Z",
     "shell.execute_reply": "2022-09-18T06:24:45.253135Z"
    },
    "papermill": {
     "duration": 0.018856,
     "end_time": "2022-09-18T06:24:45.257142",
     "exception": false,
     "start_time": "2022-09-18T06:24:45.238286",
     "status": "completed"
    },
    "tags": []
   },
   "outputs": [
    {
     "name": "stdout",
     "output_type": "stream",
     "text": [
      "29.97141765208454 29.925635015013942 19.957515329075004\n"
     ]
    }
   ],
   "source": [
    "#接受到到新角度信息\n",
    "alpha = cal_ang((0,0), P7, P1)\n",
    "beta = cal_ang((0,0), P7, P4)\n",
    "gamma = cal_ang(P5, P7, P4)\n",
    "print(alpha,beta,gamma)"
   ]
  },
  {
   "cell_type": "code",
   "execution_count": 17,
   "id": "bc4584b5",
   "metadata": {
    "execution": {
     "iopub.execute_input": "2022-09-18T06:24:45.275436Z",
     "iopub.status.busy": "2022-09-18T06:24:45.275038Z",
     "iopub.status.idle": "2022-09-18T06:24:45.282449Z",
     "shell.execute_reply": "2022-09-18T06:24:45.281039Z"
    },
    "papermill": {
     "duration": 0.019389,
     "end_time": "2022-09-18T06:24:45.284845",
     "exception": false,
     "start_time": "2022-09-18T06:24:45.265456",
     "status": "completed"
    },
    "tags": []
   },
   "outputs": [],
   "source": [
    "#极坐标距离\n",
    "def p_distance(po1, po2):\n",
    "    arr1 = np.array(po1,dtype = float)\n",
    "    arr2 = np.array(po2,dtype = float)\n",
    "    dis = math.sqrt(arr1[0]**2+arr2[0]**2-2*arr1[0]*arr1[0]*math.cos((arr1[1]-arr2[1])*math.pi/180.0))\n",
    "    print(type(arr1[1]))\n",
    "    return dis"
   ]
  },
  {
   "cell_type": "markdown",
   "id": "1d1fc041",
   "metadata": {
    "papermill": {
     "duration": 0.007965,
     "end_time": "2022-09-18T06:24:45.301008",
     "exception": false,
     "start_time": "2022-09-18T06:24:45.293043",
     "status": "completed"
    },
    "tags": []
   },
   "source": [
    "# 随机模拟"
   ]
  },
  {
   "cell_type": "code",
   "execution_count": 18,
   "id": "40fc5f4c",
   "metadata": {
    "execution": {
     "iopub.execute_input": "2022-09-18T06:24:45.319312Z",
     "iopub.status.busy": "2022-09-18T06:24:45.318919Z",
     "iopub.status.idle": "2022-09-18T06:24:45.326271Z",
     "shell.execute_reply": "2022-09-18T06:24:45.325030Z"
    },
    "papermill": {
     "duration": 0.019266,
     "end_time": "2022-09-18T06:24:45.328622",
     "exception": false,
     "start_time": "2022-09-18T06:24:45.309356",
     "status": "completed"
    },
    "tags": []
   },
   "outputs": [],
   "source": [
    "#随机生成九个点 (p1,p2,p3,,,)\n",
    "def rough_position (r, sta):\n",
    "    low = sta - math.degrees(2*math.pi/180)\n",
    "    high = sta + math.degrees(2*math.pi/180)\n",
    "    new_sta = random.uniform(low,high)\n",
    "    if new_sta<0:\n",
    "        new_sta = new_sta+360\n",
    "    else:\n",
    "        pass\n",
    "    r = random.uniform(100-15,100+15)\n",
    "    position = (r,new_sta)\n",
    "    return position"
   ]
  },
  {
   "cell_type": "code",
   "execution_count": 19,
   "id": "58db48bd",
   "metadata": {
    "execution": {
     "iopub.execute_input": "2022-09-18T06:24:45.348511Z",
     "iopub.status.busy": "2022-09-18T06:24:45.347354Z",
     "iopub.status.idle": "2022-09-18T06:24:46.224927Z",
     "shell.execute_reply": "2022-09-18T06:24:46.223694Z"
    },
    "papermill": {
     "duration": 0.890103,
     "end_time": "2022-09-18T06:24:46.227573",
     "exception": false,
     "start_time": "2022-09-18T06:24:45.337470",
     "status": "completed"
    },
    "tags": []
   },
   "outputs": [
    {
     "name": "stderr",
     "output_type": "stream",
     "text": [
      "  0%|          | 0/101 [00:00<?, ?it/s]\n",
      "  0%|          | 0/101 [00:00<?, ?it/s]\n",
      "  0%|          | 0/101 [00:00<?, ?it/s]\n",
      "  0%|          | 0/101 [00:00<?, ?it/s]\n",
      "  0%|          | 0/101 [00:00<?, ?it/s]\n",
      "  0%|          | 0/101 [00:00<?, ?it/s]\n",
      "  0%|          | 0/101 [00:00<?, ?it/s]\n",
      "  0%|          | 0/101 [00:00<?, ?it/s]\n",
      "  0%|          | 0/101 [00:00<?, ?it/s]\n",
      "  0%|          | 0/101 [00:00<?, ?it/s]\n",
      "  0%|          | 0/101 [00:00<?, ?it/s]\n",
      "  0%|          | 0/101 [00:00<?, ?it/s]\n",
      "  0%|          | 0/101 [00:00<?, ?it/s]\n",
      "  0%|          | 0/101 [00:00<?, ?it/s]\n",
      "  0%|          | 0/101 [00:00<?, ?it/s]\n",
      "  0%|          | 0/101 [00:00<?, ?it/s]\n",
      "  0%|          | 0/101 [00:00<?, ?it/s]\n",
      "  0%|          | 0/101 [00:00<?, ?it/s]\n",
      "  0%|          | 0/101 [00:00<?, ?it/s]\n",
      "  0%|          | 0/101 [00:00<?, ?it/s]\n",
      "  0%|          | 0/101 [00:00<?, ?it/s]\n",
      "  0%|          | 0/101 [00:00<?, ?it/s]\n",
      "  0%|          | 0/101 [00:00<?, ?it/s]\n",
      "  0%|          | 0/101 [00:00<?, ?it/s]\n",
      "  0%|          | 0/101 [00:00<?, ?it/s]\n",
      "  0%|          | 0/101 [00:00<?, ?it/s]\n",
      "  0%|          | 0/101 [00:00<?, ?it/s]\n",
      "  0%|          | 0/101 [00:00<?, ?it/s]\n",
      "  0%|          | 0/101 [00:00<?, ?it/s]\n",
      "  0%|          | 0/101 [00:00<?, ?it/s]\n",
      "  0%|          | 0/101 [00:00<?, ?it/s]\n",
      "  0%|          | 0/101 [00:00<?, ?it/s]\n",
      "  0%|          | 0/101 [00:00<?, ?it/s]\n",
      "  0%|          | 0/101 [00:00<?, ?it/s]\n",
      "  0%|          | 0/101 [00:00<?, ?it/s]\n",
      "  0%|          | 0/101 [00:00<?, ?it/s]\n",
      "  0%|          | 0/101 [00:00<?, ?it/s]\n",
      "  0%|          | 0/101 [00:00<?, ?it/s]\n",
      "  0%|          | 0/101 [00:00<?, ?it/s]\n",
      "  0%|          | 0/101 [00:00<?, ?it/s]\n",
      "  0%|          | 0/101 [00:00<?, ?it/s]\n",
      "  0%|          | 0/101 [00:00<?, ?it/s]\n",
      "  0%|          | 0/101 [00:00<?, ?it/s]\n",
      "  0%|          | 0/101 [00:00<?, ?it/s]\n",
      "  0%|          | 0/101 [00:00<?, ?it/s]\n",
      "  0%|          | 0/101 [00:00<?, ?it/s]\n",
      "  0%|          | 0/101 [00:00<?, ?it/s]\n",
      "  0%|          | 0/101 [00:00<?, ?it/s]\n",
      "  0%|          | 0/101 [00:00<?, ?it/s]\n",
      "  0%|          | 0/101 [00:00<?, ?it/s]\n",
      "  0%|          | 0/101 [00:00<?, ?it/s]\n",
      "  0%|          | 0/101 [00:00<?, ?it/s]\n",
      "  0%|          | 0/101 [00:00<?, ?it/s]\n",
      "  0%|          | 0/101 [00:00<?, ?it/s]\n",
      "  0%|          | 0/101 [00:00<?, ?it/s]\n",
      "  0%|          | 0/101 [00:00<?, ?it/s]\n",
      "  0%|          | 0/101 [00:00<?, ?it/s]\n",
      "  0%|          | 0/101 [00:00<?, ?it/s]\n",
      "  0%|          | 0/101 [00:00<?, ?it/s]\n",
      "  0%|          | 0/101 [00:00<?, ?it/s]\n",
      "  0%|          | 0/101 [00:00<?, ?it/s]\n",
      "  0%|          | 0/101 [00:00<?, ?it/s]\n",
      "  0%|          | 0/101 [00:00<?, ?it/s]\n",
      "  0%|          | 0/101 [00:00<?, ?it/s]\n",
      "  0%|          | 0/101 [00:00<?, ?it/s]\n",
      "  0%|          | 0/101 [00:00<?, ?it/s]\n",
      "  0%|          | 0/101 [00:00<?, ?it/s]\n",
      "  0%|          | 0/101 [00:00<?, ?it/s]\n",
      "  0%|          | 0/101 [00:00<?, ?it/s]\n",
      "  0%|          | 0/101 [00:00<?, ?it/s]\n",
      "  0%|          | 0/101 [00:00<?, ?it/s]\n",
      "  0%|          | 0/101 [00:00<?, ?it/s]\n",
      "  0%|          | 0/101 [00:00<?, ?it/s]\n",
      "  0%|          | 0/101 [00:00<?, ?it/s]\n",
      "  0%|          | 0/101 [00:00<?, ?it/s]\n",
      "  0%|          | 0/101 [00:00<?, ?it/s]\n",
      "  0%|          | 0/101 [00:00<?, ?it/s]\n",
      "  0%|          | 0/101 [00:00<?, ?it/s]\n",
      "  0%|          | 0/101 [00:00<?, ?it/s]\n",
      "  0%|          | 0/101 [00:00<?, ?it/s]\n",
      "  0%|          | 0/101 [00:00<?, ?it/s]\n",
      "  0%|          | 0/101 [00:00<?, ?it/s]\n",
      "  0%|          | 0/101 [00:00<?, ?it/s]\n",
      "  0%|          | 0/101 [00:00<?, ?it/s]\n",
      "  0%|          | 0/101 [00:00<?, ?it/s]\n",
      "  0%|          | 0/101 [00:00<?, ?it/s]\n",
      "  0%|          | 0/101 [00:00<?, ?it/s]\n",
      "  0%|          | 0/101 [00:00<?, ?it/s]\n",
      "  0%|          | 0/101 [00:00<?, ?it/s]\n",
      "  0%|          | 0/101 [00:00<?, ?it/s]\n",
      "  0%|          | 0/101 [00:00<?, ?it/s]\n",
      "  0%|          | 0/101 [00:00<?, ?it/s]\n",
      "  0%|          | 0/101 [00:00<?, ?it/s]\n",
      "  0%|          | 0/101 [00:00<?, ?it/s]\n",
      "  0%|          | 0/101 [00:00<?, ?it/s]\n",
      "  0%|          | 0/101 [00:00<?, ?it/s]\n",
      "  0%|          | 0/101 [00:00<?, ?it/s]\n",
      "  0%|          | 0/101 [00:00<?, ?it/s]\n",
      "  0%|          | 0/101 [00:00<?, ?it/s]\n",
      "  0%|          | 0/101 [00:00<?, ?it/s]\n",
      "  0%|          | 0/101 [00:00<?, ?it/s]\n"
     ]
    },
    {
     "data": {
      "text/html": [
       "<div>\n",
       "<style scoped>\n",
       "    .dataframe tbody tr th:only-of-type {\n",
       "        vertical-align: middle;\n",
       "    }\n",
       "\n",
       "    .dataframe tbody tr th {\n",
       "        vertical-align: top;\n",
       "    }\n",
       "\n",
       "    .dataframe thead th {\n",
       "        text-align: right;\n",
       "    }\n",
       "</style>\n",
       "<table border=\"1\" class=\"dataframe\">\n",
       "  <thead>\n",
       "    <tr style=\"text-align: right;\">\n",
       "      <th></th>\n",
       "      <th>FY04距离</th>\n",
       "      <th>FY04角度</th>\n",
       "      <th>FY05距离</th>\n",
       "      <th>FY05角度</th>\n",
       "      <th>FY07距离</th>\n",
       "      <th>FY07角度</th>\n",
       "      <th>alpha</th>\n",
       "      <th>beta</th>\n",
       "      <th>gamma</th>\n",
       "    </tr>\n",
       "  </thead>\n",
       "  <tbody>\n",
       "    <tr>\n",
       "      <th>0</th>\n",
       "      <td>98.812640</td>\n",
       "      <td>120.488465</td>\n",
       "      <td>88.341942</td>\n",
       "      <td>161.269045</td>\n",
       "      <td>96.188556</td>\n",
       "      <td>238.838444</td>\n",
       "      <td>30.046895</td>\n",
       "      <td>31.285074</td>\n",
       "      <td>16.901206</td>\n",
       "    </tr>\n",
       "    <tr>\n",
       "      <th>1</th>\n",
       "      <td>96.598884</td>\n",
       "      <td>121.034037</td>\n",
       "      <td>111.097991</td>\n",
       "      <td>158.781820</td>\n",
       "      <td>96.580516</td>\n",
       "      <td>238.962259</td>\n",
       "      <td>30.044555</td>\n",
       "      <td>31.039167</td>\n",
       "      <td>23.617675</td>\n",
       "    </tr>\n",
       "    <tr>\n",
       "      <th>2</th>\n",
       "      <td>95.515129</td>\n",
       "      <td>121.558686</td>\n",
       "      <td>100.518603</td>\n",
       "      <td>160.043233</td>\n",
       "      <td>95.249237</td>\n",
       "      <td>238.358286</td>\n",
       "      <td>29.957570</td>\n",
       "      <td>31.649331</td>\n",
       "      <td>21.086238</td>\n",
       "    </tr>\n",
       "    <tr>\n",
       "      <th>3</th>\n",
       "      <td>100.659473</td>\n",
       "      <td>119.706918</td>\n",
       "      <td>95.724946</td>\n",
       "      <td>160.520987</td>\n",
       "      <td>101.572593</td>\n",
       "      <td>240.603548</td>\n",
       "      <td>30.040552</td>\n",
       "      <td>29.405010</td>\n",
       "      <td>18.533701</td>\n",
       "    </tr>\n",
       "    <tr>\n",
       "      <th>4</th>\n",
       "      <td>97.853562</td>\n",
       "      <td>120.785770</td>\n",
       "      <td>94.730485</td>\n",
       "      <td>160.435507</td>\n",
       "      <td>102.832541</td>\n",
       "      <td>241.037076</td>\n",
       "      <td>30.046887</td>\n",
       "      <td>29.057852</td>\n",
       "      <td>17.872927</td>\n",
       "    </tr>\n",
       "  </tbody>\n",
       "</table>\n",
       "</div>"
      ],
      "text/plain": [
       "       FY04距离      FY04角度      FY05距离      FY05角度      FY07距离      FY07角度  \\\n",
       "0   98.812640  120.488465   88.341942  161.269045   96.188556  238.838444   \n",
       "1   96.598884  121.034037  111.097991  158.781820   96.580516  238.962259   \n",
       "2   95.515129  121.558686  100.518603  160.043233   95.249237  238.358286   \n",
       "3  100.659473  119.706918   95.724946  160.520987  101.572593  240.603548   \n",
       "4   97.853562  120.785770   94.730485  160.435507  102.832541  241.037076   \n",
       "\n",
       "       alpha       beta      gamma  \n",
       "0  30.046895  31.285074  16.901206  \n",
       "1  30.044555  31.039167  23.617675  \n",
       "2  29.957570  31.649331  21.086238  \n",
       "3  30.040552  29.405010  18.533701  \n",
       "4  30.046887  29.057852  17.872927  "
      ]
     },
     "execution_count": 19,
     "metadata": {},
     "output_type": "execute_result"
    }
   ],
   "source": [
    "def monte (N):\n",
    "    n=1\n",
    "    D4=[]\n",
    "    D5=[]\n",
    "    D7=[]\n",
    "    A4=[]\n",
    "    A5=[]\n",
    "    A7=[]\n",
    "    ALPHA = []\n",
    "    BETA = []\n",
    "    GAMMA = []\n",
    "    try:\n",
    "        #while (n<=N):\n",
    "        while n in tqdm(range(N)):\n",
    "            #初始极坐标\n",
    "            org4 = rough_position(100,(4-1)*40)\n",
    "            org5 = rough_position(100,(5-1)*40)\n",
    "            org7 = rough_position(100,(7-1)*40)\n",
    "            #初始直角坐标\n",
    "            ra_p4 = convert_coordinate(org4[0], org4[1])\n",
    "            ra_p5 = convert_coordinate(org5[0], org5[1])\n",
    "            ra_p7 = convert_coordinate(org7[0], org7[1])\n",
    "            #调用move (P1,P1,P3...)\n",
    "            #第一步之后点直角坐标\n",
    "            ra_important1 = 1\n",
    "            ra_List4 = move (sta_4, ra_p4, ra_important1)\n",
    "            ra_P4 = ra_List4[0]\n",
    "            ra_List5 = move (sta_5, ra_p5, ra_important1)\n",
    "            ra_P5 = ra_List5[0]\n",
    "            ra_List7 = move (sta_7, ra_p7, ra_important1)\n",
    "            ra_P7 = ra_List7[0]\n",
    "            #第一步之后的极坐标\n",
    "            FY04 = polar(ra_P4)\n",
    "            FY05 = polar(ra_P5)\n",
    "            FY07 = polar(ra_P7)\n",
    "            #输入数组\n",
    "            dis_FY04 = FY04[0]\n",
    "            D4.append(dis_FY04)\n",
    "            agl_FY04 = FY04[1]\n",
    "            A4.append(agl_FY04)\n",
    "            dis_FY05 = FY05[0]\n",
    "            D5.append(dis_FY05)\n",
    "            agl_FY05 = FY05[1]\n",
    "            A5.append(agl_FY05)\n",
    "            dis_FY07 = FY07[0]\n",
    "            D7.append(dis_FY07)\n",
    "            agl_FY07 = FY07[1]\n",
    "            A7.append(agl_FY07)\n",
    "        \n",
    "            #夹角用直角坐标算\n",
    "            alpha = cal_ang((0,0), ra_P7, (100,0))\n",
    "            ALPHA.append(alpha)\n",
    "            beta = cal_ang((0,0), ra_P7, ra_P4)\n",
    "            BETA.append(beta)\n",
    "            gamma = cal_ang(ra_P5, ra_P7, ra_P4)\n",
    "            GAMMA.append(gamma)\n",
    "            n+= 1\n",
    "    except:\n",
    "        pass\n",
    "    \n",
    "    #创建表格\n",
    "    data = {\"FY04距离\":D4,\n",
    "            \"FY04角度\":A4,\n",
    "            \"FY05距离\":D5,\n",
    "            \"FY05角度\":A5,\n",
    "            \"FY07距离\":D7,\n",
    "            \"FY07角度\":A7,\n",
    "            \"alpha\":ALPHA,\n",
    "            \"beta\":BETA,\n",
    "            \"gamma\":GAMMA}\n",
    "    \n",
    "    df = pd.DataFrame(data)\n",
    "\n",
    "    return df\n",
    "    \n",
    "m_df = monte (101)\n",
    "m_df.head(5)"
   ]
  },
  {
   "cell_type": "code",
   "execution_count": 20,
   "id": "37fd2746",
   "metadata": {
    "execution": {
     "iopub.execute_input": "2022-09-18T06:24:46.282373Z",
     "iopub.status.busy": "2022-09-18T06:24:46.281971Z",
     "iopub.status.idle": "2022-09-18T06:24:46.289985Z",
     "shell.execute_reply": "2022-09-18T06:24:46.288649Z"
    },
    "papermill": {
     "duration": 0.038164,
     "end_time": "2022-09-18T06:24:46.292582",
     "exception": false,
     "start_time": "2022-09-18T06:24:46.254418",
     "status": "completed"
    },
    "tags": []
   },
   "outputs": [
    {
     "data": {
      "text/plain": [
       "(100, 9)"
      ]
     },
     "execution_count": 20,
     "metadata": {},
     "output_type": "execute_result"
    }
   ],
   "source": [
    "m_df.shape"
   ]
  },
  {
   "cell_type": "code",
   "execution_count": 21,
   "id": "7348d3b3",
   "metadata": {
    "execution": {
     "iopub.execute_input": "2022-09-18T06:24:46.348722Z",
     "iopub.status.busy": "2022-09-18T06:24:46.348310Z",
     "iopub.status.idle": "2022-09-18T06:24:46.380368Z",
     "shell.execute_reply": "2022-09-18T06:24:46.379079Z"
    },
    "papermill": {
     "duration": 0.063624,
     "end_time": "2022-09-18T06:24:46.383332",
     "exception": false,
     "start_time": "2022-09-18T06:24:46.319708",
     "status": "completed"
    },
    "tags": []
   },
   "outputs": [
    {
     "name": "stderr",
     "output_type": "stream",
     "text": [
      "/opt/conda/lib/python3.7/site-packages/ipykernel_launcher.py:2: FutureWarning: As the xlwt package is no longer maintained, the xlwt engine will be removed in a future version of pandas. This is the only engine in pandas that supports writing in the xls format. Install openpyxl and write to an xlsx file instead. You can set the option io.excel.xls.writer to 'xlwt' to silence this warning. While this option is deprecated and will also raise a warning, it can be globally set and the warning suppressed.\n",
      "  \n"
     ]
    }
   ],
   "source": [
    "#save\n",
    "m_df.to_excel(\"./step1_output.xls\")"
   ]
  },
  {
   "cell_type": "markdown",
   "id": "5af5d72d",
   "metadata": {
    "papermill": {
     "duration": 0.025985,
     "end_time": "2022-09-18T06:24:46.435857",
     "exception": false,
     "start_time": "2022-09-18T06:24:46.409872",
     "status": "completed"
    },
    "tags": []
   },
   "source": [
    "# 参数设置与误差分析"
   ]
  },
  {
   "cell_type": "markdown",
   "id": "299b8f1c",
   "metadata": {
    "papermill": {
     "duration": 0.026633,
     "end_time": "2022-09-18T06:24:46.490829",
     "exception": false,
     "start_time": "2022-09-18T06:24:46.464196",
     "status": "completed"
    },
    "tags": []
   },
   "source": [
    "参数讨论（只在第一步涉及）\n",
    "\n",
    "参数：\n",
    "\n",
    "1）判断角度相等的精确位数\n",
    "\n",
    "2）迭代的步幅 = 0.1**（精度+2）\n",
    "\n",
    "关键参数 = 精度\n",
    "\n",
    "评价指标：\n",
    "\n",
    "1）精确度误差\n",
    "\n",
    "2）迭代次数"
   ]
  },
  {
   "cell_type": "code",
   "execution_count": 22,
   "id": "14bc7d6e",
   "metadata": {
    "execution": {
     "iopub.execute_input": "2022-09-18T06:24:46.545385Z",
     "iopub.status.busy": "2022-09-18T06:24:46.544576Z",
     "iopub.status.idle": "2022-09-18T06:24:46.550288Z",
     "shell.execute_reply": "2022-09-18T06:24:46.549131Z"
    },
    "papermill": {
     "duration": 0.035606,
     "end_time": "2022-09-18T06:24:46.552473",
     "exception": false,
     "start_time": "2022-09-18T06:24:46.516867",
     "status": "completed"
    },
    "tags": []
   },
   "outputs": [],
   "source": [
    "def Average(X):\n",
    "    average=sum(X)/len(X)\n",
    "    return average"
   ]
  },
  {
   "cell_type": "code",
   "execution_count": 23,
   "id": "4e6ad545",
   "metadata": {
    "execution": {
     "iopub.execute_input": "2022-09-18T06:24:46.607122Z",
     "iopub.status.busy": "2022-09-18T06:24:46.606682Z",
     "iopub.status.idle": "2022-09-18T06:25:37.586314Z",
     "shell.execute_reply": "2022-09-18T06:25:37.585162Z"
    },
    "papermill": {
     "duration": 51.040526,
     "end_time": "2022-09-18T06:25:37.619181",
     "exception": false,
     "start_time": "2022-09-18T06:24:46.578655",
     "status": "completed"
    },
    "tags": []
   },
   "outputs": [
    {
     "name": "stdout",
     "output_type": "stream",
     "text": [
      "[0.06, 0.157, 0.3775, 0.1825, 0.164, 0.15625, 0.124, 0.172] 0.17415624999999998\n",
      "[0.06735, 0.1794, 0.31975, 0.3932, 0.0944, 0.09325, 0.1436, 0.1832] 0.18426875\n",
      "[0.06588, 0.18192, 0.31424, 0.41402, 0.11652, 0.08852, 0.14678, 0.18432] 0.18902499999999997\n",
      "[0.06593, 0.18203, 0.31376, 0.41613, 0.11876, 0.08795, 0.1471, 0.18418] 0.18948\n",
      "[0.06592, 0.18205, 0.3137, 0.41634, 0.11896, 0.08789, 0.14713, 0.18417] 0.18952\n"
     ]
    }
   ],
   "source": [
    "##剔除第一个点\n",
    "X = [2,3,4,5,6,7,8,9]\n",
    "\n",
    "Error1 = Error_aya(1)\n",
    "avf_E1 = Average(Error1)\n",
    "print(Error1,avf_E1)\n",
    "Error2 = Error_aya(2)\n",
    "avf_E2 = Average(Error2)\n",
    "print(Error2,avf_E2)\n",
    "Error3 = Error_aya(3)\n",
    "avf_E3 = Average(Error3)\n",
    "print(Error3,avf_E3)\n",
    "Error4 = Error_aya(4)\n",
    "avf_E4 = Average(Error4)\n",
    "print(Error4,avf_E4)\n",
    "Error5 = Error_aya(5)\n",
    "avf_E5 = Average(Error5)\n",
    "print(Error5,avf_E5)\n"
   ]
  },
  {
   "cell_type": "code",
   "execution_count": 24,
   "id": "ff09cbd2",
   "metadata": {
    "execution": {
     "iopub.execute_input": "2022-09-18T06:25:37.673524Z",
     "iopub.status.busy": "2022-09-18T06:25:37.673018Z",
     "iopub.status.idle": "2022-09-18T06:26:29.084376Z",
     "shell.execute_reply": "2022-09-18T06:26:29.083137Z"
    },
    "papermill": {
     "duration": 51.468005,
     "end_time": "2022-09-18T06:26:29.113314",
     "exception": false,
     "start_time": "2022-09-18T06:25:37.645309",
     "status": "completed"
    },
    "tags": []
   },
   "outputs": [
    {
     "name": "stdout",
     "output_type": "stream",
     "text": [
      "[21, 110, 39, 26, 103, 44, 23, 107] 59.125\n",
      "[198, 1099, 403, 337, 1099, 455, 229, 1057] 609.625\n",
      "[1977, 10990, 4042, 3446, 11060, 4559, 2294, 10557] 6115.625\n",
      "[19759, 109895, 40429, 34537, 110671, 45603, 22944, 105566] 61175.5\n",
      "[197585, 1098948, 404304, 345446, 1106774, 456043, 229441, 1055655] 611774.5\n"
     ]
    }
   ],
   "source": [
    "Count1 = Counting(1)\n",
    "avg_C1 = Average(Count1)\n",
    "print(Count1, avg_C1)\n",
    "Count2 = Counting(2)\n",
    "avg_C2 = Average(Count2)\n",
    "print(Count2, avg_C2)\n",
    "Count3 = Counting(3)\n",
    "avg_C3 = Average(Count3)\n",
    "print(Count3, avg_C3)\n",
    "Count4 = Counting(4)\n",
    "avg_C4 = Average(Count4)\n",
    "print(Count4, avg_C4)\n",
    "Count5 = Counting(5)\n",
    "avg_C5 = Average(Count5)\n",
    "print(Count5, avg_C5)"
   ]
  },
  {
   "cell_type": "markdown",
   "id": "bdde062d",
   "metadata": {
    "papermill": {
     "duration": 0.026205,
     "end_time": "2022-09-18T06:26:29.165860",
     "exception": false,
     "start_time": "2022-09-18T06:26:29.139655",
     "status": "completed"
    },
    "tags": []
   },
   "source": [
    "构造关于精度和迭代次数的综合平价方程，由于我们的方法"
   ]
  },
  {
   "cell_type": "markdown",
   "id": "b4c32db3",
   "metadata": {
    "papermill": {
     "duration": 0.026512,
     "end_time": "2022-09-18T06:26:29.218821",
     "exception": false,
     "start_time": "2022-09-18T06:26:29.192309",
     "status": "completed"
    },
    "tags": []
   },
   "source": [
    "讨论第二步后得分的提升效果\n",
    "\n",
    "做结果对比表"
   ]
  }
 ],
 "metadata": {
  "kernelspec": {
   "display_name": "Python 3",
   "language": "python",
   "name": "python3"
  },
  "language_info": {
   "codemirror_mode": {
    "name": "ipython",
    "version": 3
   },
   "file_extension": ".py",
   "mimetype": "text/x-python",
   "name": "python",
   "nbconvert_exporter": "python",
   "pygments_lexer": "ipython3",
   "version": "3.7.12"
  },
  "papermill": {
   "default_parameters": {},
   "duration": 128.732379,
   "end_time": "2022-09-18T06:26:29.968256",
   "environment_variables": {},
   "exception": null,
   "input_path": "__notebook__.ipynb",
   "output_path": "__notebook__.ipynb",
   "parameters": {},
   "start_time": "2022-09-18T06:24:21.235877",
   "version": "2.3.4"
  }
 },
 "nbformat": 4,
 "nbformat_minor": 5
}
